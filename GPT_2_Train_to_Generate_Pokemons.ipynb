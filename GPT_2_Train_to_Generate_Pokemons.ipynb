{
 "nbformat": 4,
 "nbformat_minor": 0,
 "metadata": {
  "colab": {
   "name": "GPT-2  Train to Generate Pokemons",
   "provenance": [],
   "collapsed_sections": [],
   "toc_visible": true
  },
  "kernelspec": {
   "name": "python3",
   "display_name": "Python 3"
  },
  "accelerator": "GPU"
 },
 "cells": [
  {
   "cell_type": "markdown",
   "metadata": {
    "id": "KjR_y1DcZif1"
   },
   "source": [
    "# GPT-2 для генерации новых Покемонов\n",
    "\n",
    "Этот блокнот позволит вам преобразовать папку с изображениями в текстовый формат, а затем обучить модель GPT-2 на изображениях Покемонов.\n",
    "\n",
    "Чтобы использовать этот блокнот, просто следуйте инструкциям и запускайте каждую ячейку в соответствии с указаниями.\n"
   ]
  },
  {
   "cell_type": "markdown",
   "metadata": {
    "id": "Ly6hQe18GDM8"
   },
   "source": [
    "## Установка зависимостей\n",
    "\n",
    "Сначала импортируем все необходимые модули и скачиваем для переподготовки модель 124М GPT-2:"
   ]
  },
  {
   "cell_type": "code",
   "metadata": {
    "id": "oLfKBltYZVeq"
   },
   "source": [
    "!pip install -q gpt-2-simple\n",
    "\n",
    "import sys\n",
    "import math\n",
    "from PIL import Image\n",
    "from os import listdir\n",
    "import shutil\n",
    "\n",
    "%tensorflow_version 1.x\n",
    "import gpt_2_simple as gpt2\n",
    "from datetime import datetime\n",
    "from google.colab import files, drive\n",
    "\n",
    "gpt2.download_gpt2(model_name=\"124M\")"
   ],
   "execution_count": null,
   "outputs": []
  },
  {
   "cell_type": "markdown",
   "metadata": {
    "id": "G-bTKkWvGSNn"
   },
   "source": [
    "## Работа с Google Drive\n",
    "\n",
    "Подключаем Google Drive (на нем уже есть датасет всех Покемонов с [kaggle](https://www.kaggle.com/kvpratama/pokemon-images-dataset))"
   ]
  },
  {
   "cell_type": "code",
   "metadata": {
    "id": "W0WMCYr-GRJ1"
   },
   "source": [
    "drive.mount('/content/drive')"
   ],
   "execution_count": null,
   "outputs": []
  },
  {
   "cell_type": "markdown",
   "metadata": {
    "id": "o_pjyGAKazlR"
   },
   "source": [
    "## Сохраняем картинки в текст для генерации (на данный момент самый быстрый вариант)\n",
    "\n",
    "Теперь мы конвертируем наши изображения Покемонов в один длинный текстовый файл, который мы будем использовать для обучения. По умолчанию мы используем папку на Google Диске под названием «pokemons».\n",
    "\n",
    "Измените это на имя папки на вашем Google Диске, которую вы хотите преобразовать, затем запустите ячейку:"
   ]
  },
  {
   "cell_type": "code",
   "metadata": {
    "id": "19xxIiv4ayi5"
   },
   "source": [
    "output = ''\n",
    "input_folder = 'pokemons'\n",
    "input_folder_path = f'/content/drive/My Drive/{input_folder}'\n",
    "\n",
    "for f in listdir(input_folder_path):\n",
    "    ext = f.split('.')[-1]\n",
    "\n",
    "    print(f'Превращаем файл {f}')\n",
    "\n",
    "    path = f\"{input_folder_path}/{f}\"\n",
    "\n",
    "    image = Image.open(path).convert('RGBA')\n",
    "    pixels = image.load()\n",
    "    width, height = image.size[0], image.size[1]\n",
    "\n",
    "    lines = []\n",
    "\n",
    "    for y in range(height):\n",
    "        padLength = len(str(width))\n",
    "        padded = str(y).zfill(padLength)\n",
    "        split = [padded + 'd']\n",
    "\n",
    "        for x in range(width):\n",
    "            color = pixels[x, y]\n",
    "\n",
    "            s = '~'\n",
    "\n",
    "            if len(color) < 4 or color[3] > 128:\n",
    "                r = color[0]\n",
    "                g = color[1]\n",
    "                b = color[2]\n",
    "\n",
    "                if r == 85 and g == 85 and b == 85:\n",
    "                    s = 'a'\n",
    "\n",
    "                elif r == 170 and g == 170 and b == 170:\n",
    "                    s = 'b'\n",
    "\n",
    "                else:\n",
    "                    mR = math.floor(r / 64)\n",
    "                    mG = math.floor(g / 64)\n",
    "                    mB = math.floor(b / 64)\n",
    "\n",
    "                    c = 0;\n",
    "\n",
    "                    c += mR\n",
    "                    c = c << 2\n",
    "                    c += mG\n",
    "                    c = c << 2\n",
    "                    c += mB\n",
    "\n",
    "                    s = chr(c+33)\n",
    "\n",
    "            split.append(s)\n",
    "\n",
    "        lines.append(' '.join(split))\n",
    "\n",
    "    reversed = []\n",
    "    for line in lines:\n",
    "        reversed.insert(0, (line.replace('d ', 'u ', 1)))\n",
    "\n",
    "    output += '\\n'.join(lines)\n",
    "    output += '\\n'.join(reversed)\n",
    "\n",
    "print('Сохранение...')\n",
    "\n",
    "with open('images.txt', 'w') as output_file:\n",
    "    output_file.write(output)\n",
    "\n",
    "print('Выполненно!')"
   ],
   "execution_count": null,
   "outputs": []
  },
  {
   "cell_type": "markdown",
   "metadata": {
    "id": "-nHOKC7JH7vQ"
   },
   "source": [
    "## Обучаем модель\n",
    "\n",
    "Теперь обучим модель GPT-2 на преобразованных изображениях.\n",
    "\n",
    "Создадим папку `pokemon-gpt-2-checkpoints` в которую мы будем сохранять на Google Диске.\n",
    "\n",
    "Количество шагов определяет, как долго мы тренируем нашу модель на этих данных. Чем дольше, тем лучше результат.\n"
   ]
  },
  {
   "cell_type": "code",
   "metadata": {
    "id": "uiKWUHWkCRvW"
   },
   "source": [
    "checkpoint_folder = 'pokemon-gpt-2-checkpoints'\n",
    "run_name = 'pokemon-gpt-2-run'\n",
    "steps = 2000\n",
    "\n",
    "session = gpt2.start_tf_sess()\n",
    "\n",
    "session = gpt2.reset_session(session)\n",
    "\n",
    "gpt2.finetune(session,\n",
    "    dataset='all-images.txt',\n",
    "    model_name='124M',\n",
    "    steps=steps,\n",
    "    restore_from='latest',\n",
    "    run_name=run_name,\n",
    "    print_every=10,\n",
    "    sample_every=500,\n",
    "    save_every=200\n",
    "  )\n",
    "\n",
    "shutil.copytree(f'checkpoint/{run_name}', f'/content/drive/My Drive/{checkpoint_folder}/{run_name}')"
   ],
   "execution_count": null,
   "outputs": []
  }
 ]
}